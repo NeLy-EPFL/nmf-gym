{
 "cells": [
  {
   "cell_type": "code",
   "execution_count": 1,
   "metadata": {},
   "outputs": [],
   "source": [
    "import xml.etree.ElementTree as ET\n",
    "import yaml\n",
    "import nmf_gym\n",
    "from pathlib import Path"
   ]
  },
  {
   "cell_type": "code",
   "execution_count": 2,
   "metadata": {},
   "outputs": [],
   "source": [
    "df3dpp_to_nmf_names = {\n",
    "    'ThC_pitch': 'Coxa', 'ThC_roll': 'Coxa_roll', 'ThC_yaw': 'Coxa_yaw',\n",
    "    'CTr_pitch': 'Femur', 'CTr_roll': 'Femur_roll',\n",
    "    'FTi_pitch': 'Tibia', 'TiTa_pitch': 'Tarsus1'\n",
    "}\n",
    "nmf_to_df3dpp_names = {v: k for k, v in df3dpp_to_nmf_names.items()}"
   ]
  },
  {
   "cell_type": "code",
   "execution_count": 3,
   "metadata": {},
   "outputs": [],
   "source": [
    "# Load SDF\n",
    "basedir = Path(nmf_gym.__path__[0]).absolute().parent\n",
    "sdf = ET.parse(basedir / 'data/design/sdf/neuromechfly_42dof.sdf')\n",
    "root = sdf.getroot()"
   ]
  },
  {
   "cell_type": "code",
   "execution_count": 4,
   "metadata": {},
   "outputs": [],
   "source": [
    "# Load joint limits\n",
    "with open(basedir / 'data/pose/joint_limits.yaml') as f:\n",
    "    joint_limits_dict = yaml.safe_load(f)"
   ]
  },
  {
   "cell_type": "code",
   "execution_count": 5,
   "metadata": {},
   "outputs": [
    {
     "name": "stdout",
     "output_type": "stream",
     "text": [
      "LFCoxa: limit set to (-0.26425672291328106, 0.48552702413105564)\n",
      "LFCoxa_roll: limit set to (0.16618682344461239, 1.3785967194737108)\n",
      "LFCoxa_yaw: limit set to (-0.5804031973442535, 0.10931022152116496)\n",
      "LFFemur: limit set to (-2.6674538515956217, -0.8634161259065807)\n",
      "LFFemur_roll: limit set to (-0.09402975125252772, 0.8634003305866089)\n",
      "LFTarsus1: limit set to (-0.4945172993154937, 0.03844435237973801)\n",
      "LFTibia: limit set to (0.007870165035474774, 1.8518722717610507)\n",
      "LHCoxa: limit set to (-0.15240583905787586, 0.33929149509972634)\n",
      "LHCoxa_roll: limit set to (1.8681302587854358, 2.8534725490623054)\n",
      "LHCoxa_yaw: limit set to (-0.4241460454516544, 0.1835604834168864)\n",
      "LHFemur: limit set to (-2.973344491854622, -0.966381929159005)\n",
      "LHFemur_roll: limit set to (-0.5672651974503836, 0.23888150024645177)\n",
      "LHTarsus1: limit set to (-1.0252381241569277, 0.13229666920923713)\n",
      "LHTibia: limit set to (0.06859821848423248, 3.0921175399378398)\n",
      "LMCoxa: limit set to (-0.2747082182541584, 0.019250639876072107)\n",
      "LMCoxa_roll: limit set to (1.278558843161066, 2.4009171853680997)\n",
      "LMCoxa_yaw: limit set to (-0.2571673310153826, 0.24445843770192555)\n",
      "LMFemur: limit set to (-2.396696968159481, -1.238617856840763)\n",
      "LMFemur_roll: limit set to (0.03902276438310784, 0.8556077827151731)\n",
      "LMTarsus1: limit set to (-0.5625744040634384, 0.04747703951463044)\n",
      "LMTibia: limit set to (0.17635156451881917, 2.2979994383077527)\n",
      "RFCoxa: limit set to (-0.26425672291328106, 0.48552702413105564)\n",
      "RFCoxa_roll: limit set to (-1.3785967194737108, -0.16618682344461239)\n",
      "RFCoxa_yaw: limit set to (-0.10931022152116496, 0.5804031973442535)\n",
      "RFFemur: limit set to (-2.6674538515956217, -0.8634161259065807)\n",
      "RFFemur_roll: limit set to (-0.8634003305866089, 0.09402975125252772)\n",
      "RFTarsus1: limit set to (-0.4945172993154937, 0.03844435237973801)\n",
      "RFTibia: limit set to (0.007870165035474774, 1.8518722717610507)\n",
      "RHCoxa: limit set to (-0.15240583905787586, 0.33929149509972634)\n",
      "RHCoxa_roll: limit set to (-2.8534725490623054, -1.8681302587854358)\n",
      "RHCoxa_yaw: limit set to (-0.1835604834168864, 0.4241460454516544)\n",
      "RHFemur: limit set to (-2.973344491854622, -0.966381929159005)\n",
      "RHFemur_roll: limit set to (-0.23888150024645177, 0.5672651974503836)\n",
      "RHTarsus1: limit set to (-1.0252381241569277, 0.13229666920923713)\n",
      "RHTibia: limit set to (0.06859821848423248, 3.0921175399378398)\n",
      "RMCoxa: limit set to (-0.2747082182541584, 0.019250639876072107)\n",
      "RMCoxa_roll: limit set to (-2.4009171853680997, -1.278558843161066)\n",
      "RMCoxa_yaw: limit set to (-0.24445843770192555, 0.2571673310153826)\n",
      "RMFemur: limit set to (-2.396696968159481, -1.238617856840763)\n",
      "RMFemur_roll: limit set to (-0.8556077827151731, -0.03902276438310784)\n",
      "RMTarsus1: limit set to (-0.5625744040634384, 0.04747703951463044)\n",
      "RMTibia: limit set to (0.17635156451881917, 2.2979994383077527)\n"
     ]
    }
   ],
   "source": [
    "# Modify joint limits in SDF\n",
    "model = root[0]\n",
    "for child in model:\n",
    "    if child.tag == 'joint' and child.attrib['type'] == 'revolute':\n",
    "        joint_name = child.attrib['name'].replace('joint_', '')\n",
    "        side = joint_name[0]\n",
    "        pos = joint_name[1]\n",
    "        nmf_dof_name = joint_name[2:]\n",
    "        df3dpp_dof_name = nmf_to_df3dpp_names[nmf_dof_name]\n",
    "        vmin = joint_limits_dict[pos][df3dpp_dof_name]['min']\n",
    "        vmax = joint_limits_dict[pos][df3dpp_dof_name]['max']\n",
    "        if side == 'R':\n",
    "            if nmf_dof_name.endswith('_roll') or nmf_dof_name.endswith('_yaw'):\n",
    "                vmin *= -1\n",
    "                vmax *= -1\n",
    "        if vmax < vmin:\n",
    "            vmin, vmax = vmax, vmin\n",
    "        print(f'{joint_name}: limit set to ({vmin}, {vmax})')\n",
    "        limit = child.find('axis').find('limit')\n",
    "        limit.find('lower').text = str(vmin)\n",
    "        limit.find('upper').text = str(vmax)"
   ]
  },
  {
   "cell_type": "code",
   "execution_count": 6,
   "metadata": {},
   "outputs": [],
   "source": [
    "# Save new SDF\n",
    "sdf.write(basedir / 'data/design/sdf/neuromechfly_42dof_with_limit.sdf',\n",
    "          xml_declaration=True)"
   ]
  }
 ],
 "metadata": {
  "interpreter": {
   "hash": "10f72c5c78a3652b65c692df3012d30e347daa671b07c2d8bbaa41a3e6134c5a"
  },
  "kernelspec": {
   "display_name": "Python 3.6.13 64-bit ('flynet': conda)",
   "language": "python",
   "name": "python3"
  },
  "language_info": {
   "codemirror_mode": {
    "name": "ipython",
    "version": 3
   },
   "file_extension": ".py",
   "mimetype": "text/x-python",
   "name": "python",
   "nbconvert_exporter": "python",
   "pygments_lexer": "ipython3",
   "version": "3.6.13"
  },
  "orig_nbformat": 4
 },
 "nbformat": 4,
 "nbformat_minor": 2
}
